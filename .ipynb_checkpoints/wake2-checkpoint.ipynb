{
 "cells": [
  {
   "cell_type": "code",
   "execution_count": 18,
   "id": "b66c2dc7",
   "metadata": {},
   "outputs": [],
   "source": [
    "c = 299792458 # speed of light [m/s]\n",
    "\n",
    "import numpy as np\n",
    "from scipy.integrate import quad\n",
    "\n",
    "class Electron:\n",
    "    def __init__(self):\n",
    "        self.m = 9.1093837e-31 # mass of the electron\n",
    "        self.e = 1.6e-19 # the charge of the electron\n",
    "\n",
    "class Bunch:\n",
    "    def __init__(self, Ne, sigma_z, Energy):\n",
    "        self.Ne = Ne #1e-10  [C]\n",
    "        self.sigma_z = sigma_z #20e-6  bunch lenght\n",
    "        self.Energy = Energy #140e6*1.6e-19\n",
    "    \n",
    "class Undulator:\n",
    "    def __init__(self, L, bunch, Lu, a=4e-3):\n",
    "        self.Lu = Lu #undulator lenght\n",
    "        self.a = a   #undulator radius\n",
    "        self.e = Electron() # electron params\n",
    "        self.bunch = bunch\n",
    "        self.dErms = 0\n",
    "        self.sigma = 3.2e17#n*e*e*tau/m\n",
    "        self.L = L # impedance per unit lenght 1.6e-12\n",
    "        self.s0=(c*self.a**2/(2*np.pi*self.sigma))**(1/3)\n",
    "        self.integ = quad(self.f,0,1e-3, args=(10e-6,self.s0))\n",
    "        \n",
    "    def roughness_de_E(self):\n",
    "        self.dErms = (self.bunch.Ne * self.e.e * self.Lu * self.L * c**2)/(3**(3/4)*2**0.5*3.141592**0.5*self.bunch.sigma_z**2)\n",
    "        return self.dErms/self.bunch.Energy\n",
    "        #dErms = (Ne*e*Lu*L*c**2)/(3**(3/4)*2**0.5*3.141592**0.5*sigma_z**2)\n",
    "    def f(self, x, s, s0):\n",
    "        return x**2*np.e**(-x**2*s/s0)/(x**6+8)\n",
    "    \n",
    "        "
   ]
  },
  {
   "cell_type": "code",
   "execution_count": 19,
   "id": "6faee6c6",
   "metadata": {},
   "outputs": [],
   "source": [
    "bunch = Bunch(1e-10, 20e-6, 140e6*1.6e-19)\n",
    "\n",
    "a=4e-3\n",
    "Lb = 1.9e-3*1e-12 # 2.7e-4]\n",
    "L = Lb/a\n",
    "\n",
    "undulator = Undulator(L, bunch, 10)"
   ]
  },
  {
   "cell_type": "code",
   "execution_count": 20,
   "id": "81ed30e5",
   "metadata": {},
   "outputs": [],
   "source": [
    "dE_E = undulator.roughness_de_E()"
   ]
  },
  {
   "cell_type": "code",
   "execution_count": 21,
   "id": "bc7701a2",
   "metadata": {},
   "outputs": [
    {
     "data": {
      "text/plain": [
       "1.3361963455380056e-05"
      ]
     },
     "execution_count": 21,
     "metadata": {},
     "output_type": "execute_result"
    }
   ],
   "source": [
    "undulator.s0"
   ]
  },
  {
   "cell_type": "code",
   "execution_count": 22,
   "id": "ffb11a2a",
   "metadata": {},
   "outputs": [
    {
     "data": {
      "text/plain": [
       "(4.166664795684651e-11, 4.625927192064173e-25)"
      ]
     },
     "execution_count": 22,
     "metadata": {},
     "output_type": "execute_result"
    }
   ],
   "source": [
    "undulator.integ"
   ]
  },
  {
   "cell_type": "code",
   "execution_count": null,
   "id": "5e6dee2a",
   "metadata": {},
   "outputs": [],
   "source": []
  }
 ],
 "metadata": {
  "kernelspec": {
   "display_name": "Python 3 (ipykernel)",
   "language": "python",
   "name": "python3"
  },
  "language_info": {
   "codemirror_mode": {
    "name": "ipython",
    "version": 3
   },
   "file_extension": ".py",
   "mimetype": "text/x-python",
   "name": "python",
   "nbconvert_exporter": "python",
   "pygments_lexer": "ipython3",
   "version": "3.9.12"
  }
 },
 "nbformat": 4,
 "nbformat_minor": 5
}
