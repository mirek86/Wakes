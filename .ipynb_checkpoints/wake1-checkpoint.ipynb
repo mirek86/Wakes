{
 "cells": [
  {
   "cell_type": "markdown",
   "id": "b611dfb4",
   "metadata": {},
   "source": [
    "Resistive wall wakefield calculation\n"
   ]
  },
  {
   "cell_type": "code",
   "execution_count": 1,
   "id": "0f3e294e",
   "metadata": {},
   "outputs": [],
   "source": [
    "import numpy as np\n",
    "import scipy as sp\n",
    "import sympy as smp\n",
    "import matplotlib.pyplot as plt\n",
    "from scipy.integrate import quad\n",
    "from scipy.integrate import cumulative_trapezoid"
   ]
  },
  {
   "cell_type": "code",
   "execution_count": 2,
   "id": "e587286f",
   "metadata": {},
   "outputs": [],
   "source": [
    "#dc conductivity\n",
    "n = 1.0 # density of conduction electrons\n",
    "e = 1.6e-19 # the charge of the electron\n",
    "tau = 2 # relaxation time\n",
    "m = 9.1093837e-31 # mass of the electron\n",
    "\n",
    "c = 299792458 # speed of light [m/s]\n",
    "Lu = 10 # undulator lenght\n",
    "L = 1.6e-12 # impedance per unit lenght\n",
    "Ne = 1e-10 # [C]\n",
    "sigma_z = 20e-6 # bunch lenght\n",
    "s = sigma_z\n",
    "sigma = 3.2e17#n*e*e*tau/m\n",
    "E = 140e6*1.6e-19\n",
    "a=4e-3\n",
    "Lb = 1.9e-3*1e-12 # 2.7e-4]\n",
    "L = Lb/a\n",
    "re = 2.82e-15\n",
    "N = Ne/e"
   ]
  },
  {
   "cell_type": "code",
   "execution_count": 3,
   "id": "8d248b9e",
   "metadata": {},
   "outputs": [
    {
     "data": {
      "text/plain": [
       "625000000.0"
      ]
     },
     "execution_count": 3,
     "metadata": {},
     "output_type": "execute_result"
    }
   ],
   "source": [
    "N"
   ]
  },
  {
   "cell_type": "code",
   "execution_count": 4,
   "id": "eb94e8e2",
   "metadata": {},
   "outputs": [],
   "source": [
    "#ac conductivity\n",
    "k = smp.Symbol('k', real=True)\n",
    "x = smp.Symbol('x', real=True)\n",
    "#sigma_ac = sigma/(1-I*k*c*tau)\n",
    "#print(sigma_ac)"
   ]
  },
  {
   "cell_type": "markdown",
   "id": "c82c2ae1",
   "metadata": {},
   "source": [
    " beam-tube roughness"
   ]
  },
  {
   "cell_type": "code",
   "execution_count": 5,
   "id": "c3012337",
   "metadata": {},
   "outputs": [],
   "source": [
    "dErms = (Ne*e*Lu*L*c**2)/(3**(3/4)*2**0.5*3.141592**0.5*sigma_z**2)"
   ]
  },
  {
   "cell_type": "code",
   "execution_count": 6,
   "id": "29fdfe27",
   "metadata": {},
   "outputs": [
    {
     "data": {
      "text/plain": [
       "0.00013341853218981818"
      ]
     },
     "execution_count": 6,
     "metadata": {},
     "output_type": "execute_result"
    }
   ],
   "source": [
    "dErms/E"
   ]
  },
  {
   "cell_type": "code",
   "execution_count": 7,
   "id": "df1c18be",
   "metadata": {},
   "outputs": [],
   "source": [
    "s0=(c*a**2/(2*np.pi*sigma))**(1/3)"
   ]
  },
  {
   "cell_type": "code",
   "execution_count": 8,
   "id": "8c21fcf0",
   "metadata": {},
   "outputs": [
    {
     "data": {
      "text/plain": [
       "1.3361963455380056e-05"
      ]
     },
     "execution_count": 8,
     "metadata": {},
     "output_type": "execute_result"
    }
   ],
   "source": [
    "s0"
   ]
  },
  {
   "cell_type": "code",
   "execution_count": 9,
   "id": "a6f6013c",
   "metadata": {},
   "outputs": [],
   "source": [
    "def f(x, s, s0):\n",
    "    return x**2*np.e**(-x**2*s/s0)/(x**6+8)"
   ]
  },
  {
   "cell_type": "code",
   "execution_count": 10,
   "id": "db9104aa",
   "metadata": {},
   "outputs": [],
   "source": [
    "integ = quad(f,0,1e-3, args=(10e-6,s0))"
   ]
  },
  {
   "cell_type": "code",
   "execution_count": 11,
   "id": "66c98115",
   "metadata": {},
   "outputs": [
    {
     "data": {
      "text/plain": [
       "(4.166664795684651e-11, 4.625927192064173e-25)"
      ]
     },
     "execution_count": 11,
     "metadata": {},
     "output_type": "execute_result"
    }
   ],
   "source": [
    "integ"
   ]
  },
  {
   "cell_type": "code",
   "execution_count": 12,
   "id": "4d1e653f",
   "metadata": {},
   "outputs": [],
   "source": [
    "def wake_conduct(s):\n",
    "    return (16/a**2)*((np.e**(-s/s0)/3)*np.cos(np.sqrt(3)*s/s0)-(np.sqrt(2)/np.pi)*integ[0])\n"
   ]
  },
  {
   "cell_type": "code",
   "execution_count": 13,
   "id": "7dc98c44",
   "metadata": {},
   "outputs": [],
   "source": [
    "#w = 16/a**2*(np.e**(-s/s0)/3*np.cos(np.sqrt(3)*s/s0)-np.sqrt(2)/np.pi*integ[0])\n",
    "w = wake_conduct(s)"
   ]
  },
  {
   "cell_type": "code",
   "execution_count": 14,
   "id": "2e2ac1ac",
   "metadata": {},
   "outputs": [
    {
     "data": {
      "text/plain": [
       "-63647.82607656387"
      ]
     },
     "execution_count": 14,
     "metadata": {},
     "output_type": "execute_result"
    }
   ],
   "source": [
    "w"
   ]
  },
  {
   "cell_type": "code",
   "execution_count": 15,
   "id": "e9ceebfd",
   "metadata": {},
   "outputs": [],
   "source": [
    "eq1 = 4/3 * a**(1/3)*(c/(2*3.1415*sigma))**(2/3)"
   ]
  },
  {
   "cell_type": "code",
   "execution_count": 16,
   "id": "77a02c32",
   "metadata": {},
   "outputs": [
    {
     "data": {
      "text/plain": [
       "5.951519263672942e-08"
      ]
     },
     "execution_count": 16,
     "metadata": {},
     "output_type": "execute_result"
    }
   ],
   "source": [
    "eq1"
   ]
  },
  {
   "cell_type": "code",
   "execution_count": 17,
   "id": "2ea039ed",
   "metadata": {},
   "outputs": [],
   "source": [
    "args = np.linspace(0,6*s0,128)\n",
    "ds = 6*s0/128\n",
    "args2 = np.linspace(0,40e-6,128)"
   ]
  },
  {
   "cell_type": "code",
   "execution_count": 18,
   "id": "99a13be4",
   "metadata": {},
   "outputs": [
    {
     "data": {
      "text/plain": [
       "1.3361963455380056e-05"
      ]
     },
     "execution_count": 18,
     "metadata": {},
     "output_type": "execute_result"
    }
   ],
   "source": [
    "s0"
   ]
  },
  {
   "cell_type": "code",
   "execution_count": 19,
   "id": "34e077d8",
   "metadata": {},
   "outputs": [],
   "source": [
    "result = []\n",
    "bunch = []\n",
    "bunch_amplitude = Ne/(sigma_z*e)\n",
    "for arg in args:\n",
    "    result.append(wake_conduct(arg))\n",
    "for arg2 in args2:\n",
    "    if arg2 <= 20e-6:\n",
    "        bunch.append(1/sigma_z)\n",
    "    else:\n",
    "        bunch.append(0)"
   ]
  },
  {
   "cell_type": "code",
   "execution_count": 20,
   "id": "78f9feba",
   "metadata": {},
   "outputs": [
    {
     "data": {
      "text/plain": [
       "[<matplotlib.lines.Line2D at 0x7f3d2f4fc880>]"
      ]
     },
     "execution_count": 20,
     "metadata": {},
     "output_type": "execute_result"
    },
    {
     "data": {
      "image/png": "[encoded data removed]",
      "text/plain": [
       "<Figure size 432x288 with 1 Axes>"
      ]
     },
     "metadata": {
      "needs_background": "light"
     },
     "output_type": "display_data"
    }
   ],
   "source": [
    "plt.plot(args,result)#*(a**2)/4"
   ]
  },
  {
   "cell_type": "code",
   "execution_count": 21,
   "id": "1a927279",
   "metadata": {},
   "outputs": [
    {
     "data": {
      "text/plain": [
       "[<matplotlib.lines.Line2D at 0x7f3d2ebfd370>]"
      ]
     },
     "execution_count": 21,
     "metadata": {},
     "output_type": "execute_result"
    },
    {
     "data": {
      "image/png": "[encoded data removed]",
      "text/plain": [
       "<Figure size 432x288 with 1 Axes>"
      ]
     },
     "metadata": {
      "needs_background": "light"
     },
     "output_type": "display_data"
    }
   ],
   "source": [
    "plt.plot(args, bunch)"
   ]
  },
  {
   "cell_type": "code",
   "execution_count": 33,
   "id": "cda4d376",
   "metadata": {},
   "outputs": [],
   "source": [
    "conv = np.convolve(result, bunch)\n",
    "conv = conv*ds"
   ]
  },
  {
   "cell_type": "code",
   "execution_count": 34,
   "id": "c78feaf7",
   "metadata": {},
   "outputs": [
    {
     "data": {
      "text/plain": [
       "[<matplotlib.lines.Line2D at 0x7f3d2ea12400>]"
      ]
     },
     "execution_count": 34,
     "metadata": {},
     "output_type": "execute_result"
    },
    {
     "data": {
      "image/png": "[encoded data removed]",
      "text/plain": [
       "<Figure size 432x288 with 1 Axes>"
      ]
     },
     "metadata": {
      "needs_background": "light"
     },
     "output_type": "display_data"
    }
   ],
   "source": [
    "plt.plot(conv)"
   ]
  },
  {
   "cell_type": "code",
   "execution_count": 35,
   "id": "68e500f4",
   "metadata": {},
   "outputs": [],
   "source": [
    "result = (conv*10*N*re/140)\n"
   ]
  },
  {
   "cell_type": "code",
   "execution_count": 36,
   "id": "11273e8a",
   "metadata": {},
   "outputs": [
    {
     "data": {
      "text/plain": [
       "[<matplotlib.lines.Line2D at 0x7f3d2e97a1f0>]"
      ]
     },
     "execution_count": 36,
     "metadata": {},
     "output_type": "execute_result"
    },
    {
     "data": {
      "image/png": "[encoded data removed]",
      "text/plain": [
       "<Figure size 432x288 with 1 Axes>"
      ]
     },
     "metadata": {
      "needs_background": "light"
     },
     "output_type": "display_data"
    }
   ],
   "source": [
    "plt.plot(result)"
   ]
  },
  {
   "cell_type": "code",
   "execution_count": 26,
   "id": "995b2275",
   "metadata": {},
   "outputs": [],
   "source": []
  },
  {
   "cell_type": "code",
   "execution_count": null,
   "id": "5d3ad91a",
   "metadata": {},
   "outputs": [],
   "source": []
  },
  {
   "cell_type": "code",
   "execution_count": null,
   "id": "1e2e8e9e",
   "metadata": {},
   "outputs": [],
   "source": []
  }
 ],
 "metadata": {
  "kernelspec": {
   "display_name": "Python 3 (ipykernel)",
   "language": "python",
   "name": "python3"
  },
  "language_info": {
   "codemirror_mode": {
    "name": "ipython",
    "version": 3
   },
   "file_extension": ".py",
   "mimetype": "text/x-python",
   "name": "python",
   "nbconvert_exporter": "python",
   "pygments_lexer": "ipython3",
   "version": "3.9.12"
  }
 },
 "nbformat": 4,
 "nbformat_minor": 5
}
