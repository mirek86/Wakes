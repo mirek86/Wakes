{
 "cells": [
  {
   "cell_type": "markdown",
   "id": "b611dfb4",
   "metadata": {},
   "source": [
    "Resistive wall wakefield calculation\n"
   ]
  },
  {
   "cell_type": "code",
   "execution_count": 1,
   "id": "0f3e294e",
   "metadata": {},
   "outputs": [],
   "source": [
    "import numpy as np\n",
    "import scipy as sp\n",
    "import sympy as smp\n",
    "import matplotlib.pyplot as plt\n",
    "from scipy.integrate import quad\n",
    "from scipy.integrate import cumulative_trapezoid"
   ]
  },
  {
   "cell_type": "code",
   "execution_count": 2,
   "id": "e587286f",
   "metadata": {},
   "outputs": [],
   "source": [
    "#dc conductivity\n",
    "n = 1.0 # density of conduction electrons\n",
    "e = 1.0 # the charge of the electron\n",
    "tau = 2 # relaxation time\n",
    "m = 0.1 # mass of the electron\n",
    "\n",
    "c = 299792458 # speed of light [m/s]\n",
    "Lu = 112 # undulator lenght\n",
    "L = 1e-12 # impedance per unit lenght\n",
    "Ne = 1e-9 # [C]\n",
    "sigma_z = 20e-6 # bunch lenght\n",
    "sigma = n*e*e*tau/m\n",
    "E = 14.3e9"
   ]
  },
  {
   "cell_type": "code",
   "execution_count": 8,
   "id": "eb94e8e2",
   "metadata": {},
   "outputs": [],
   "source": [
    "#ac conductivity\n",
    "k = smp.Symbol('k', real=True)\n",
    "x = smp.Symbol('x', real=True)\n",
    "#sigma_ac = sigma/(1-I*k*c*tau)\n",
    "#print(sigma_ac)"
   ]
  },
  {
   "cell_type": "markdown",
   "id": "c82c2ae1",
   "metadata": {},
   "source": [
    " beam-tube roughness"
   ]
  },
  {
   "cell_type": "code",
   "execution_count": 4,
   "id": "c3012337",
   "metadata": {},
   "outputs": [],
   "source": [
    "dErms = Ne**2*Lu*L*c**2/(3**(3/4)*2**0.5*3.141592**0.5*sigma_z**2)"
   ]
  },
  {
   "cell_type": "code",
   "execution_count": 5,
   "id": "29fdfe27",
   "metadata": {},
   "outputs": [
    {
     "data": {
      "text/plain": [
       "3.0798713061999977e-13"
      ]
     },
     "execution_count": 5,
     "metadata": {},
     "output_type": "execute_result"
    }
   ],
   "source": [
    "dErms/E"
   ]
  },
  {
   "cell_type": "code",
   "execution_count": 12,
   "id": "a6f6013c",
   "metadata": {},
   "outputs": [],
   "source": [
    "def f(x, s, s0):\n",
    "    return x**2*np.e**(-x**2*s/s0)/(x**6+8)"
   ]
  },
  {
   "cell_type": "code",
   "execution_count": 21,
   "id": "db9104aa",
   "metadata": {},
   "outputs": [],
   "source": [
    "integ = quad(f,0,100, args=(0.1,100))"
   ]
  },
  {
   "cell_type": "code",
   "execution_count": 22,
   "id": "66c98115",
   "metadata": {},
   "outputs": [
    {
     "data": {
      "text/plain": [
       "(0.1844162683059378, 4.929264340453043e-09)"
      ]
     },
     "execution_count": 22,
     "metadata": {},
     "output_type": "execute_result"
    }
   ],
   "source": [
    "integ"
   ]
  },
  {
   "cell_type": "code",
   "execution_count": null,
   "id": "7dc98c44",
   "metadata": {},
   "outputs": [],
   "source": []
  }
 ],
 "metadata": {
  "kernelspec": {
   "display_name": "Python 3 (ipykernel)",
   "language": "python",
   "name": "python3"
  },
  "language_info": {
   "codemirror_mode": {
    "name": "ipython",
    "version": 3
   },
   "file_extension": ".py",
   "mimetype": "text/x-python",
   "name": "python",
   "nbconvert_exporter": "python",
   "pygments_lexer": "ipython3",
   "version": "3.9.12"
  }
 },
 "nbformat": 4,
 "nbformat_minor": 5
}
