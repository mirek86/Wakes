{
 "cells": [
  {
   "cell_type": "markdown",
   "id": "b611dfb4",
   "metadata": {},
   "source": [
    "Resistive wall wakefield calculation\n"
   ]
  },
  {
   "cell_type": "code",
   "execution_count": 20,
   "id": "0f3e294e",
   "metadata": {},
   "outputs": [],
   "source": [
    "import numpy as np\n",
    "import scipy as sp\n",
    "import sympy as smp\n",
    "import matplotlib.pyplot as plt\n",
    "from scipy.integrate import quad\n",
    "from scipy.integrate import cumulative_trapezoid"
   ]
  },
  {
   "cell_type": "code",
   "execution_count": 21,
   "id": "e587286f",
   "metadata": {},
   "outputs": [],
   "source": [
    "#dc conductivity\n",
    "n = 1.0 # density of conduction electrons\n",
    "e = 1.6e-19 # the charge of the electron\n",
    "tau = 2 # relaxation time\n",
    "m = 9.1093837e-31 # mass of the electron\n",
    "\n",
    "c = 299792458 # speed of light [m/s]\n",
    "Lu = 10 # undulator lenght\n",
    "L = 1.6e-12 # impedance per unit lenght\n",
    "Ne = 1e-10 # [C]\n",
    "sigma_z = 20e-6 # bunch lenght\n",
    "s = sigma_z\n",
    "sigma = 3.2e17#n*e*e*tau/m\n",
    "E = 140e6*1.6e-19\n",
    "a=4e-3\n",
    "Lb = 1.9e-3*1e-12 # 2.7e-4]\n",
    "L = Lb/a"
   ]
  },
  {
   "cell_type": "code",
   "execution_count": 22,
   "id": "eb94e8e2",
   "metadata": {},
   "outputs": [],
   "source": [
    "#ac conductivity\n",
    "k = smp.Symbol('k', real=True)\n",
    "x = smp.Symbol('x', real=True)\n",
    "#sigma_ac = sigma/(1-I*k*c*tau)\n",
    "#print(sigma_ac)"
   ]
  },
  {
   "cell_type": "markdown",
   "id": "c82c2ae1",
   "metadata": {},
   "source": [
    " beam-tube roughness"
   ]
  },
  {
   "cell_type": "code",
   "execution_count": 23,
   "id": "c3012337",
   "metadata": {},
   "outputs": [],
   "source": [
    "dErms = (Ne*e*Lu*L*c**2)/(3**(3/4)*2**0.5*3.141592**0.5*sigma_z**2)"
   ]
  },
  {
   "cell_type": "code",
   "execution_count": 24,
   "id": "29fdfe27",
   "metadata": {},
   "outputs": [
    {
     "data": {
      "text/plain": [
       "0.00013341853218981818"
      ]
     },
     "execution_count": 24,
     "metadata": {},
     "output_type": "execute_result"
    }
   ],
   "source": [
    "dErms/E"
   ]
  },
  {
   "cell_type": "code",
   "execution_count": 25,
   "id": "df1c18be",
   "metadata": {},
   "outputs": [],
   "source": [
    "s0=c*a**2/(2*np.pi*sigma)"
   ]
  },
  {
   "cell_type": "code",
   "execution_count": 26,
   "id": "8c21fcf0",
   "metadata": {},
   "outputs": [
    {
     "data": {
      "text/plain": [
       "2.3856725796184713e-15"
      ]
     },
     "execution_count": 26,
     "metadata": {},
     "output_type": "execute_result"
    }
   ],
   "source": [
    "s0"
   ]
  },
  {
   "cell_type": "code",
   "execution_count": 27,
   "id": "a6f6013c",
   "metadata": {},
   "outputs": [],
   "source": [
    "def f(x, s, s0):\n",
    "    return x**2*np.e**(-x**2*s/s0)/(x**6+8)"
   ]
  },
  {
   "cell_type": "code",
   "execution_count": 28,
   "id": "db9104aa",
   "metadata": {},
   "outputs": [],
   "source": [
    "integ = quad(f,0,1e-3, args=(10e-6,s0))"
   ]
  },
  {
   "cell_type": "code",
   "execution_count": 29,
   "id": "66c98115",
   "metadata": {},
   "outputs": [
    {
     "data": {
      "text/plain": [
       "(2.0465480476157757e-16, 3.7516603460960567e-16)"
      ]
     },
     "execution_count": 29,
     "metadata": {},
     "output_type": "execute_result"
    }
   ],
   "source": [
    "integ"
   ]
  },
  {
   "cell_type": "code",
   "execution_count": 30,
   "id": "7dc98c44",
   "metadata": {},
   "outputs": [],
   "source": [
    "w = 16/a**2*(np.e**(-s/s0)/3*np.cos(np.sqrt(3)*s/s0)-np.sqrt(2)/np.pi*integ[0])"
   ]
  },
  {
   "cell_type": "code",
   "execution_count": 31,
   "id": "2e2ac1ac",
   "metadata": {},
   "outputs": [
    {
     "data": {
      "text/plain": [
       "-9.212702995339765e-11"
      ]
     },
     "execution_count": 31,
     "metadata": {},
     "output_type": "execute_result"
    }
   ],
   "source": [
    "w"
   ]
  },
  {
   "cell_type": "code",
   "execution_count": 32,
   "id": "e9ceebfd",
   "metadata": {},
   "outputs": [],
   "source": [
    "eq1 = 4/3 * a**(1/3)*(c/(2*3.1415*sigma))**(2/3)"
   ]
  },
  {
   "cell_type": "code",
   "execution_count": 33,
   "id": "77a02c32",
   "metadata": {},
   "outputs": [
    {
     "data": {
      "text/plain": [
       "5.951519263672942e-08"
      ]
     },
     "execution_count": 33,
     "metadata": {},
     "output_type": "execute_result"
    }
   ],
   "source": [
    "eq1"
   ]
  },
  {
   "cell_type": "code",
   "execution_count": null,
   "id": "2ea039ed",
   "metadata": {},
   "outputs": [],
   "source": []
  }
 ],
 "metadata": {
  "kernelspec": {
   "display_name": "Python 3 (ipykernel)",
   "language": "python",
   "name": "python3"
  },
  "language_info": {
   "codemirror_mode": {
    "name": "ipython",
    "version": 3
   },
   "file_extension": ".py",
   "mimetype": "text/x-python",
   "name": "python",
   "nbconvert_exporter": "python",
   "pygments_lexer": "ipython3",
   "version": "3.9.12"
  }
 },
 "nbformat": 4,
 "nbformat_minor": 5
}
