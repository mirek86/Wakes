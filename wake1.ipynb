{
 "cells": [
  {
   "cell_type": "markdown",
   "id": "b611dfb4",
   "metadata": {},
   "source": [
    "Resistive wall wakefield calculation\n"
   ]
  },
  {
   "cell_type": "code",
   "execution_count": 9,
   "id": "e587286f",
   "metadata": {},
   "outputs": [],
   "source": [
    "#dc conductivity\n",
    "n = 1.0 # density of conduction electrons\n",
    "e = 1.0 # the charge of the electron\n",
    "tau = 2 # relaxation time\n",
    "m = 0.1 # mass of the electron\n",
    "c = 100 # speed of light\n",
    "sigma = n*e*e*tau/m"
   ]
  },
  {
   "cell_type": "code",
   "execution_count": 12,
   "id": "eb94e8e2",
   "metadata": {},
   "outputs": [
    {
     "name": "stdout",
     "output_type": "stream",
     "text": [
      "20.0/(-200*I*k + 1)\n"
     ]
    }
   ],
   "source": [
    "#ac conductivity\n",
    "\n",
    "from sympy import *\n",
    "k = Symbol('k', real=true)\n",
    "sigma_ac = sigma/(1-I*k*c*tau)\n",
    "print(sigma_ac)"
   ]
  }
 ],
 "metadata": {
  "kernelspec": {
   "display_name": "Python 3 (ipykernel)",
   "language": "python",
   "name": "python3"
  },
  "language_info": {
   "codemirror_mode": {
    "name": "ipython",
    "version": 3
   },
   "file_extension": ".py",
   "mimetype": "text/x-python",
   "name": "python",
   "nbconvert_exporter": "python",
   "pygments_lexer": "ipython3",
   "version": "3.9.12"
  }
 },
 "nbformat": 4,
 "nbformat_minor": 5
}
