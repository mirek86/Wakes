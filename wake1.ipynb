{
 "cells": [
  {
   "cell_type": "markdown",
   "id": "b611dfb4",
   "metadata": {},
   "source": [
    "Resistive wall wakefield calculation\n"
   ]
  },
  {
   "cell_type": "code",
   "execution_count": 1,
   "id": "0f3e294e",
   "metadata": {},
   "outputs": [],
   "source": [
    "import numpy as np\n",
    "import scipy as sp\n",
    "import sympy as smp\n",
    "import matplotlib.pyplot as plt\n",
    "from scipy.integrate import quad\n",
    "from scipy.integrate import cumulative_trapezoid"
   ]
  },
  {
   "cell_type": "code",
   "execution_count": 2,
   "id": "e587286f",
   "metadata": {},
   "outputs": [],
   "source": [
    "#dc conductivity\n",
    "n = 1.0 # density of conduction electrons\n",
    "e = 1.6e-19 # the charge of the electron\n",
    "tau = 2 # relaxation time\n",
    "m = 9.1093837e-31 # mass of the electron\n",
    "\n",
    "c = 299792458 # speed of light [m/s]\n",
    "Lu = 10 # undulator lenght\n",
    "L = 1.6e-12 # impedance per unit lenght\n",
    "Ne = 1e-10 # [C]\n",
    "sigma_z = 20e-6 # bunch lenght\n",
    "s = sigma_z\n",
    "sigma = 5.8e17#n*e*e*tau/m\n",
    "E = 140e6*1.6e-19\n",
    "a=4e-3"
   ]
  },
  {
   "cell_type": "code",
   "execution_count": 3,
   "id": "eb94e8e2",
   "metadata": {},
   "outputs": [],
   "source": [
    "#ac conductivity\n",
    "k = smp.Symbol('k', real=True)\n",
    "x = smp.Symbol('x', real=True)\n",
    "#sigma_ac = sigma/(1-I*k*c*tau)\n",
    "#print(sigma_ac)"
   ]
  },
  {
   "cell_type": "markdown",
   "id": "c82c2ae1",
   "metadata": {},
   "source": [
    " beam-tube roughness"
   ]
  },
  {
   "cell_type": "code",
   "execution_count": 4,
   "id": "c3012337",
   "metadata": {},
   "outputs": [],
   "source": [
    "dErms = (Ne*e*Lu*L*c**2)/(3**(3/4)*2**0.5*3.141592**0.5*sigma_z**2)"
   ]
  },
  {
   "cell_type": "code",
   "execution_count": 5,
   "id": "29fdfe27",
   "metadata": {},
   "outputs": [
    {
     "data": {
      "text/plain": [
       "0.0004494097926393875"
      ]
     },
     "execution_count": 5,
     "metadata": {},
     "output_type": "execute_result"
    }
   ],
   "source": [
    "dErms/E"
   ]
  },
  {
   "cell_type": "code",
   "execution_count": 6,
   "id": "df1c18be",
   "metadata": {},
   "outputs": [],
   "source": [
    "s0=c*a**2/(2*np.pi*sigma)"
   ]
  },
  {
   "cell_type": "code",
   "execution_count": 7,
   "id": "8c21fcf0",
   "metadata": {},
   "outputs": [
    {
     "data": {
      "text/plain": [
       "1.3162331473757084e-15"
      ]
     },
     "execution_count": 7,
     "metadata": {},
     "output_type": "execute_result"
    }
   ],
   "source": [
    "s0"
   ]
  },
  {
   "cell_type": "code",
   "execution_count": 8,
   "id": "a6f6013c",
   "metadata": {},
   "outputs": [],
   "source": [
    "def f(x, s, s0):\n",
    "    return x**2*np.e**(-x**2*s/s0)/(x**6+8)"
   ]
  },
  {
   "cell_type": "code",
   "execution_count": 9,
   "id": "db9104aa",
   "metadata": {},
   "outputs": [],
   "source": [
    "integ = quad(f,0,1e-3, args=(10e-6,s0))"
   ]
  },
  {
   "cell_type": "code",
   "execution_count": 10,
   "id": "66c98115",
   "metadata": {},
   "outputs": [
    {
     "data": {
      "text/plain": [
       "(8.369147339974476e-17, 1.5828302495493374e-16)"
      ]
     },
     "execution_count": 10,
     "metadata": {},
     "output_type": "execute_result"
    }
   ],
   "source": [
    "integ"
   ]
  },
  {
   "cell_type": "code",
   "execution_count": 11,
   "id": "7dc98c44",
   "metadata": {},
   "outputs": [],
   "source": [
    "w = 16/a**2*(np.e**(-s/s0)/3*np.cos(np.sqrt(3)*s/s0)-np.sqrt(2)/np.pi*integ[0])"
   ]
  },
  {
   "cell_type": "code",
   "execution_count": 12,
   "id": "2e2ac1ac",
   "metadata": {},
   "outputs": [
    {
     "data": {
      "text/plain": [
       "-3.7674399512509324e-11"
      ]
     },
     "execution_count": 12,
     "metadata": {},
     "output_type": "execute_result"
    }
   ],
   "source": [
    "w"
   ]
  },
  {
   "cell_type": "code",
   "execution_count": null,
   "id": "e9ceebfd",
   "metadata": {},
   "outputs": [],
   "source": []
  },
  {
   "cell_type": "code",
   "execution_count": null,
   "id": "77a02c32",
   "metadata": {},
   "outputs": [],
   "source": []
  }
 ],
 "metadata": {
  "kernelspec": {
   "display_name": "Python 3 (ipykernel)",
   "language": "python",
   "name": "python3"
  },
  "language_info": {
   "codemirror_mode": {
    "name": "ipython",
    "version": 3
   },
   "file_extension": ".py",
   "mimetype": "text/x-python",
   "name": "python",
   "nbconvert_exporter": "python",
   "pygments_lexer": "ipython3",
   "version": "3.9.12"
  }
 },
 "nbformat": 4,
 "nbformat_minor": 5
}
